{
 "cells": [
  {
   "cell_type": "code",
   "execution_count": null,
   "id": "69dcb7bf",
   "metadata": {},
   "outputs": [],
   "source": [
    "import os\n",
    "os.chdir('..')\n",
    "import parse"
   ]
  },
  {
   "cell_type": "code",
   "execution_count": null,
   "id": "110e2841",
   "metadata": {},
   "outputs": [],
   "source": [
    "parse.parse()"
   ]
  }
 ],
 "metadata": {
  "kernelspec": {
   "display_name": "Python 3 (ipykernel)",
   "language": "python",
   "name": "python3"
  },
  "language_info": {
   "codemirror_mode": {
    "name": "ipython",
    "version": 3
   },
   "file_extension": ".py",
   "mimetype": "text/x-python",
   "name": "python",
   "nbconvert_exporter": "python",
   "pygments_lexer": "ipython3",
   "version": "3.9.15"
  }
 },
 "nbformat": 4,
 "nbformat_minor": 5
}
